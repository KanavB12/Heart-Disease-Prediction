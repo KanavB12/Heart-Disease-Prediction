{
 "cells": [
  {
   "cell_type": "markdown",
   "metadata": {},
   "source": [
    "# Heart Disease Prediction\n",
    "\n",
    "Predict whether a person has heart disease or not.\n",
    "\n",
    "Dataset Link - https://www.kaggle.com/ronitf/heart-disease-uci"
   ]
  },
  {
   "cell_type": "code",
   "execution_count": 1,
   "metadata": {},
   "outputs": [],
   "source": [
    "# Importing Essential Libraries\n",
    "import numpy as np\n",
    "import pandas as pd\n",
    "import matplotlib.pyplot as plt\n",
    "import seaborn as sns"
   ]
  },
  {
   "cell_type": "code",
   "execution_count": 2,
   "metadata": {},
   "outputs": [
    {
     "name": "stderr",
     "output_type": "stream",
     "text": [
      "Using TensorFlow backend.\n"
     ]
    }
   ],
   "source": [
    "import keras\n",
    "from keras.models import Sequential\n",
    "from keras.layers import Dense\n",
    "from keras.layers import LeakyReLU\n",
    "from keras.layers import Dropout"
   ]
  },
  {
   "cell_type": "code",
   "execution_count": 3,
   "metadata": {},
   "outputs": [
    {
     "data": {
      "text/html": [
       "<div>\n",
       "<style scoped>\n",
       "    .dataframe tbody tr th:only-of-type {\n",
       "        vertical-align: middle;\n",
       "    }\n",
       "\n",
       "    .dataframe tbody tr th {\n",
       "        vertical-align: top;\n",
       "    }\n",
       "\n",
       "    .dataframe thead th {\n",
       "        text-align: right;\n",
       "    }\n",
       "</style>\n",
       "<table border=\"1\" class=\"dataframe\">\n",
       "  <thead>\n",
       "    <tr style=\"text-align: right;\">\n",
       "      <th></th>\n",
       "      <th>age</th>\n",
       "      <th>sex</th>\n",
       "      <th>cp</th>\n",
       "      <th>trestbps</th>\n",
       "      <th>chol</th>\n",
       "      <th>fbs</th>\n",
       "      <th>restecg</th>\n",
       "      <th>thalach</th>\n",
       "      <th>exang</th>\n",
       "      <th>oldpeak</th>\n",
       "      <th>slope</th>\n",
       "      <th>ca</th>\n",
       "      <th>thal</th>\n",
       "      <th>target</th>\n",
       "    </tr>\n",
       "  </thead>\n",
       "  <tbody>\n",
       "    <tr>\n",
       "      <th>0</th>\n",
       "      <td>63</td>\n",
       "      <td>1</td>\n",
       "      <td>3</td>\n",
       "      <td>145</td>\n",
       "      <td>233</td>\n",
       "      <td>1</td>\n",
       "      <td>0</td>\n",
       "      <td>150</td>\n",
       "      <td>0</td>\n",
       "      <td>2.3</td>\n",
       "      <td>0</td>\n",
       "      <td>0</td>\n",
       "      <td>1</td>\n",
       "      <td>1</td>\n",
       "    </tr>\n",
       "    <tr>\n",
       "      <th>1</th>\n",
       "      <td>37</td>\n",
       "      <td>1</td>\n",
       "      <td>2</td>\n",
       "      <td>130</td>\n",
       "      <td>250</td>\n",
       "      <td>0</td>\n",
       "      <td>1</td>\n",
       "      <td>187</td>\n",
       "      <td>0</td>\n",
       "      <td>3.5</td>\n",
       "      <td>0</td>\n",
       "      <td>0</td>\n",
       "      <td>2</td>\n",
       "      <td>1</td>\n",
       "    </tr>\n",
       "    <tr>\n",
       "      <th>2</th>\n",
       "      <td>41</td>\n",
       "      <td>0</td>\n",
       "      <td>1</td>\n",
       "      <td>130</td>\n",
       "      <td>204</td>\n",
       "      <td>0</td>\n",
       "      <td>0</td>\n",
       "      <td>172</td>\n",
       "      <td>0</td>\n",
       "      <td>1.4</td>\n",
       "      <td>2</td>\n",
       "      <td>0</td>\n",
       "      <td>2</td>\n",
       "      <td>1</td>\n",
       "    </tr>\n",
       "    <tr>\n",
       "      <th>3</th>\n",
       "      <td>56</td>\n",
       "      <td>1</td>\n",
       "      <td>1</td>\n",
       "      <td>120</td>\n",
       "      <td>236</td>\n",
       "      <td>0</td>\n",
       "      <td>1</td>\n",
       "      <td>178</td>\n",
       "      <td>0</td>\n",
       "      <td>0.8</td>\n",
       "      <td>2</td>\n",
       "      <td>0</td>\n",
       "      <td>2</td>\n",
       "      <td>1</td>\n",
       "    </tr>\n",
       "    <tr>\n",
       "      <th>4</th>\n",
       "      <td>57</td>\n",
       "      <td>0</td>\n",
       "      <td>0</td>\n",
       "      <td>120</td>\n",
       "      <td>354</td>\n",
       "      <td>0</td>\n",
       "      <td>1</td>\n",
       "      <td>163</td>\n",
       "      <td>1</td>\n",
       "      <td>0.6</td>\n",
       "      <td>2</td>\n",
       "      <td>0</td>\n",
       "      <td>2</td>\n",
       "      <td>1</td>\n",
       "    </tr>\n",
       "  </tbody>\n",
       "</table>\n",
       "</div>"
      ],
      "text/plain": [
       "   age  sex  cp  trestbps  chol  fbs  restecg  thalach  exang  oldpeak  slope  \\\n",
       "0   63    1   3       145   233    1        0      150      0      2.3      0   \n",
       "1   37    1   2       130   250    0        1      187      0      3.5      0   \n",
       "2   41    0   1       130   204    0        0      172      0      1.4      2   \n",
       "3   56    1   1       120   236    0        1      178      0      0.8      2   \n",
       "4   57    0   0       120   354    0        1      163      1      0.6      2   \n",
       "\n",
       "   ca  thal  target  \n",
       "0   0     1       1  \n",
       "1   0     2       1  \n",
       "2   0     2       1  \n",
       "3   0     2       1  \n",
       "4   0     2       1  "
      ]
     },
     "execution_count": 3,
     "metadata": {},
     "output_type": "execute_result"
    }
   ],
   "source": [
    "# Loading the dataset\n",
    "df = pd.read_csv(r\"C:\\Users\\DELL\\Desktop\\ML\\Datasets\\Heart_Disease_uci\\heart.csv\")\n",
    "df.head()"
   ]
  },
  {
   "cell_type": "markdown",
   "metadata": {},
   "source": [
    "# Exploring the Dataset"
   ]
  },
  {
   "cell_type": "code",
   "execution_count": 4,
   "metadata": {},
   "outputs": [
    {
     "data": {
      "text/plain": [
       "(303, 14)"
      ]
     },
     "execution_count": 4,
     "metadata": {},
     "output_type": "execute_result"
    }
   ],
   "source": [
    "df.shape"
   ]
  },
  {
   "cell_type": "code",
   "execution_count": 5,
   "metadata": {},
   "outputs": [
    {
     "data": {
      "text/plain": [
       "Index(['age', 'sex', 'cp', 'trestbps', 'chol', 'fbs', 'restecg', 'thalach',\n",
       "       'exang', 'oldpeak', 'slope', 'ca', 'thal', 'target'],\n",
       "      dtype='object')"
      ]
     },
     "execution_count": 5,
     "metadata": {},
     "output_type": "execute_result"
    }
   ],
   "source": [
    "df.columns"
   ]
  },
  {
   "cell_type": "code",
   "execution_count": 7,
   "metadata": {},
   "outputs": [
    {
     "data": {
      "text/plain": [
       "age           int64\n",
       "sex           int64\n",
       "cp            int64\n",
       "trestbps      int64\n",
       "chol          int64\n",
       "fbs           int64\n",
       "restecg       int64\n",
       "thalach       int64\n",
       "exang         int64\n",
       "oldpeak     float64\n",
       "slope         int64\n",
       "ca            int64\n",
       "thal          int64\n",
       "target        int64\n",
       "dtype: object"
      ]
     },
     "execution_count": 7,
     "metadata": {},
     "output_type": "execute_result"
    }
   ],
   "source": [
    "df.dtypes"
   ]
  },
  {
   "cell_type": "code",
   "execution_count": 10,
   "metadata": {},
   "outputs": [
    {
     "data": {
      "text/html": [
       "<div>\n",
       "<style scoped>\n",
       "    .dataframe tbody tr th:only-of-type {\n",
       "        vertical-align: middle;\n",
       "    }\n",
       "\n",
       "    .dataframe tbody tr th {\n",
       "        vertical-align: top;\n",
       "    }\n",
       "\n",
       "    .dataframe thead th {\n",
       "        text-align: right;\n",
       "    }\n",
       "</style>\n",
       "<table border=\"1\" class=\"dataframe\">\n",
       "  <thead>\n",
       "    <tr style=\"text-align: right;\">\n",
       "      <th></th>\n",
       "      <th>count</th>\n",
       "      <th>mean</th>\n",
       "      <th>std</th>\n",
       "      <th>min</th>\n",
       "      <th>25%</th>\n",
       "      <th>50%</th>\n",
       "      <th>75%</th>\n",
       "      <th>max</th>\n",
       "    </tr>\n",
       "  </thead>\n",
       "  <tbody>\n",
       "    <tr>\n",
       "      <th>age</th>\n",
       "      <td>303.0</td>\n",
       "      <td>54.366337</td>\n",
       "      <td>9.082101</td>\n",
       "      <td>29.0</td>\n",
       "      <td>47.5</td>\n",
       "      <td>55.0</td>\n",
       "      <td>61.0</td>\n",
       "      <td>77.0</td>\n",
       "    </tr>\n",
       "    <tr>\n",
       "      <th>sex</th>\n",
       "      <td>303.0</td>\n",
       "      <td>0.683168</td>\n",
       "      <td>0.466011</td>\n",
       "      <td>0.0</td>\n",
       "      <td>0.0</td>\n",
       "      <td>1.0</td>\n",
       "      <td>1.0</td>\n",
       "      <td>1.0</td>\n",
       "    </tr>\n",
       "    <tr>\n",
       "      <th>cp</th>\n",
       "      <td>303.0</td>\n",
       "      <td>0.966997</td>\n",
       "      <td>1.032052</td>\n",
       "      <td>0.0</td>\n",
       "      <td>0.0</td>\n",
       "      <td>1.0</td>\n",
       "      <td>2.0</td>\n",
       "      <td>3.0</td>\n",
       "    </tr>\n",
       "    <tr>\n",
       "      <th>trestbps</th>\n",
       "      <td>303.0</td>\n",
       "      <td>131.623762</td>\n",
       "      <td>17.538143</td>\n",
       "      <td>94.0</td>\n",
       "      <td>120.0</td>\n",
       "      <td>130.0</td>\n",
       "      <td>140.0</td>\n",
       "      <td>200.0</td>\n",
       "    </tr>\n",
       "    <tr>\n",
       "      <th>chol</th>\n",
       "      <td>303.0</td>\n",
       "      <td>246.264026</td>\n",
       "      <td>51.830751</td>\n",
       "      <td>126.0</td>\n",
       "      <td>211.0</td>\n",
       "      <td>240.0</td>\n",
       "      <td>274.5</td>\n",
       "      <td>564.0</td>\n",
       "    </tr>\n",
       "    <tr>\n",
       "      <th>fbs</th>\n",
       "      <td>303.0</td>\n",
       "      <td>0.148515</td>\n",
       "      <td>0.356198</td>\n",
       "      <td>0.0</td>\n",
       "      <td>0.0</td>\n",
       "      <td>0.0</td>\n",
       "      <td>0.0</td>\n",
       "      <td>1.0</td>\n",
       "    </tr>\n",
       "    <tr>\n",
       "      <th>restecg</th>\n",
       "      <td>303.0</td>\n",
       "      <td>0.528053</td>\n",
       "      <td>0.525860</td>\n",
       "      <td>0.0</td>\n",
       "      <td>0.0</td>\n",
       "      <td>1.0</td>\n",
       "      <td>1.0</td>\n",
       "      <td>2.0</td>\n",
       "    </tr>\n",
       "    <tr>\n",
       "      <th>thalach</th>\n",
       "      <td>303.0</td>\n",
       "      <td>149.646865</td>\n",
       "      <td>22.905161</td>\n",
       "      <td>71.0</td>\n",
       "      <td>133.5</td>\n",
       "      <td>153.0</td>\n",
       "      <td>166.0</td>\n",
       "      <td>202.0</td>\n",
       "    </tr>\n",
       "    <tr>\n",
       "      <th>exang</th>\n",
       "      <td>303.0</td>\n",
       "      <td>0.326733</td>\n",
       "      <td>0.469794</td>\n",
       "      <td>0.0</td>\n",
       "      <td>0.0</td>\n",
       "      <td>0.0</td>\n",
       "      <td>1.0</td>\n",
       "      <td>1.0</td>\n",
       "    </tr>\n",
       "    <tr>\n",
       "      <th>oldpeak</th>\n",
       "      <td>303.0</td>\n",
       "      <td>1.039604</td>\n",
       "      <td>1.161075</td>\n",
       "      <td>0.0</td>\n",
       "      <td>0.0</td>\n",
       "      <td>0.8</td>\n",
       "      <td>1.6</td>\n",
       "      <td>6.2</td>\n",
       "    </tr>\n",
       "    <tr>\n",
       "      <th>slope</th>\n",
       "      <td>303.0</td>\n",
       "      <td>1.399340</td>\n",
       "      <td>0.616226</td>\n",
       "      <td>0.0</td>\n",
       "      <td>1.0</td>\n",
       "      <td>1.0</td>\n",
       "      <td>2.0</td>\n",
       "      <td>2.0</td>\n",
       "    </tr>\n",
       "    <tr>\n",
       "      <th>ca</th>\n",
       "      <td>303.0</td>\n",
       "      <td>0.729373</td>\n",
       "      <td>1.022606</td>\n",
       "      <td>0.0</td>\n",
       "      <td>0.0</td>\n",
       "      <td>0.0</td>\n",
       "      <td>1.0</td>\n",
       "      <td>4.0</td>\n",
       "    </tr>\n",
       "    <tr>\n",
       "      <th>thal</th>\n",
       "      <td>303.0</td>\n",
       "      <td>2.313531</td>\n",
       "      <td>0.612277</td>\n",
       "      <td>0.0</td>\n",
       "      <td>2.0</td>\n",
       "      <td>2.0</td>\n",
       "      <td>3.0</td>\n",
       "      <td>3.0</td>\n",
       "    </tr>\n",
       "    <tr>\n",
       "      <th>target</th>\n",
       "      <td>303.0</td>\n",
       "      <td>0.544554</td>\n",
       "      <td>0.498835</td>\n",
       "      <td>0.0</td>\n",
       "      <td>0.0</td>\n",
       "      <td>1.0</td>\n",
       "      <td>1.0</td>\n",
       "      <td>1.0</td>\n",
       "    </tr>\n",
       "  </tbody>\n",
       "</table>\n",
       "</div>"
      ],
      "text/plain": [
       "          count        mean        std    min    25%    50%    75%    max\n",
       "age       303.0   54.366337   9.082101   29.0   47.5   55.0   61.0   77.0\n",
       "sex       303.0    0.683168   0.466011    0.0    0.0    1.0    1.0    1.0\n",
       "cp        303.0    0.966997   1.032052    0.0    0.0    1.0    2.0    3.0\n",
       "trestbps  303.0  131.623762  17.538143   94.0  120.0  130.0  140.0  200.0\n",
       "chol      303.0  246.264026  51.830751  126.0  211.0  240.0  274.5  564.0\n",
       "fbs       303.0    0.148515   0.356198    0.0    0.0    0.0    0.0    1.0\n",
       "restecg   303.0    0.528053   0.525860    0.0    0.0    1.0    1.0    2.0\n",
       "thalach   303.0  149.646865  22.905161   71.0  133.5  153.0  166.0  202.0\n",
       "exang     303.0    0.326733   0.469794    0.0    0.0    0.0    1.0    1.0\n",
       "oldpeak   303.0    1.039604   1.161075    0.0    0.0    0.8    1.6    6.2\n",
       "slope     303.0    1.399340   0.616226    0.0    1.0    1.0    2.0    2.0\n",
       "ca        303.0    0.729373   1.022606    0.0    0.0    0.0    1.0    4.0\n",
       "thal      303.0    2.313531   0.612277    0.0    2.0    2.0    3.0    3.0\n",
       "target    303.0    0.544554   0.498835    0.0    0.0    1.0    1.0    1.0"
      ]
     },
     "execution_count": 10,
     "metadata": {},
     "output_type": "execute_result"
    }
   ],
   "source": [
    "df.describe().T"
   ]
  },
  {
   "cell_type": "code",
   "execution_count": 11,
   "metadata": {},
   "outputs": [
    {
     "data": {
      "text/plain": [
       "age         0\n",
       "sex         0\n",
       "cp          0\n",
       "trestbps    0\n",
       "chol        0\n",
       "fbs         0\n",
       "restecg     0\n",
       "thalach     0\n",
       "exang       0\n",
       "oldpeak     0\n",
       "slope       0\n",
       "ca          0\n",
       "thal        0\n",
       "target      0\n",
       "dtype: int64"
      ]
     },
     "execution_count": 11,
     "metadata": {},
     "output_type": "execute_result"
    }
   ],
   "source": [
    "df.isnull().sum()"
   ]
  },
  {
   "cell_type": "code",
   "execution_count": 14,
   "metadata": {},
   "outputs": [
    {
     "data": {
      "image/png": "[encoded data removed]",
      "text/plain": [
       "<Figure size 720x504 with 1 Axes>"
      ]
     },
     "metadata": {
      "needs_background": "light"
     },
     "output_type": "display_data"
    }
   ],
   "source": [
    "# Plotting the Outcomes based on the number of dataset entries\n",
    "plt.figure(figsize=(10,7))\n",
    "sns.countplot(x='target', data=df)\n",
    "\n",
    "# Headings\n",
    "plt.xlabel('Has Heart Disease')\n",
    "plt.ylabel('Count')\n",
    "\n",
    "plt.show()"
   ]
  },
  {
   "cell_type": "code",
   "execution_count": 15,
   "metadata": {},
   "outputs": [],
   "source": [
    "target = df[df['target'] == 1]\n",
    "male_df = target[target['sex'] == 1]\n",
    "female_df = target[target['sex'] == 0]"
   ]
  },
  {
   "cell_type": "code",
   "execution_count": 16,
   "metadata": {},
   "outputs": [
    {
     "data": {
      "text/plain": [
       "<matplotlib.axes._subplots.AxesSubplot at 0x19bf9049f60>"
      ]
     },
     "execution_count": 16,
     "metadata": {},
     "output_type": "execute_result"
    },
    {
     "data": {
      "image/png": "[encoded data removed]",
      "text/plain": [
       "<Figure size 720x432 with 1 Axes>"
      ]
     },
     "metadata": {
      "needs_background": "light"
     },
     "output_type": "display_data"
    }
   ],
   "source": [
    "plt.figure(figsize = (10,6))\n",
    "sns.set_style('darkgrid')\n",
    "plt.title('Age distribution of heart disease patients')\n",
    "sns.kdeplot(data = male_df['age'], label='Male', shade = True)\n",
    "sns.kdeplot(data = female_df['age'], label = 'Female', shade = True)"
   ]
  },
  {
   "cell_type": "markdown",
   "metadata": {},
   "source": [
    "From this plot it is clear that heart diseases are more common in males than females."
   ]
  },
  {
   "cell_type": "markdown",
   "metadata": {},
   "source": [
    "# Data Cleaning"
   ]
  },
  {
   "cell_type": "code",
   "execution_count": 17,
   "metadata": {},
   "outputs": [],
   "source": [
    "df['thal'] = df['thal'].replace(2, 'normal_defect')\n",
    "df['thal'] = df['thal'].replace(1, 'fixed_defect')\n",
    "df['thal'] = df['thal'].replace(3, 'reversible_defect')\n",
    "df['cp'] = df['cp'].replace(0, 'asymptomatic')\n",
    "df['cp'] = df['cp'].replace(1, 'atypical angina')\n",
    "df['cp'] = df['cp'].replace(2, 'non-anginal pain')\n",
    "df['cp'] = df['cp'].replace(3, 'typical angina')\n",
    "df['slope'] = df['slope'].replace(0, 'downsloping')\n",
    "df['slope'] = df['slope'].replace(1, 'flat')\n",
    "df['slope'] = df['slope'].replace(2, 'upsloping')\n",
    "df['restecg'] = df['restecg'].replace(0, 'ventricular hypertrophy')\n",
    "df['restecg'] = df['restecg'].replace(1, 'normal')\n",
    "df['restecg'] = df['restecg'].replace(2, 'ST-T wave abnormality')"
   ]
  },
  {
   "cell_type": "code",
   "execution_count": 18,
   "metadata": {},
   "outputs": [
    {
     "data": {
      "text/html": [
       "<div>\n",
       "<style scoped>\n",
       "    .dataframe tbody tr th:only-of-type {\n",
       "        vertical-align: middle;\n",
       "    }\n",
       "\n",
       "    .dataframe tbody tr th {\n",
       "        vertical-align: top;\n",
       "    }\n",
       "\n",
       "    .dataframe thead th {\n",
       "        text-align: right;\n",
       "    }\n",
       "</style>\n",
       "<table border=\"1\" class=\"dataframe\">\n",
       "  <thead>\n",
       "    <tr style=\"text-align: right;\">\n",
       "      <th></th>\n",
       "      <th>age</th>\n",
       "      <th>sex</th>\n",
       "      <th>trestbps</th>\n",
       "      <th>chol</th>\n",
       "      <th>fbs</th>\n",
       "      <th>thalach</th>\n",
       "      <th>exang</th>\n",
       "      <th>oldpeak</th>\n",
       "      <th>ca</th>\n",
       "      <th>target</th>\n",
       "      <th>atypical angina</th>\n",
       "      <th>non-anginal pain</th>\n",
       "      <th>typical angina</th>\n",
       "      <th>fixed_defect</th>\n",
       "      <th>normal_defect</th>\n",
       "      <th>reversible_defect</th>\n",
       "      <th>normal</th>\n",
       "      <th>ventricular hypertrophy</th>\n",
       "      <th>flat</th>\n",
       "      <th>upsloping</th>\n",
       "    </tr>\n",
       "  </thead>\n",
       "  <tbody>\n",
       "    <tr>\n",
       "      <th>0</th>\n",
       "      <td>63</td>\n",
       "      <td>1</td>\n",
       "      <td>145</td>\n",
       "      <td>233</td>\n",
       "      <td>1</td>\n",
       "      <td>150</td>\n",
       "      <td>0</td>\n",
       "      <td>2.3</td>\n",
       "      <td>0</td>\n",
       "      <td>1</td>\n",
       "      <td>0</td>\n",
       "      <td>0</td>\n",
       "      <td>1</td>\n",
       "      <td>1</td>\n",
       "      <td>0</td>\n",
       "      <td>0</td>\n",
       "      <td>0</td>\n",
       "      <td>1</td>\n",
       "      <td>0</td>\n",
       "      <td>0</td>\n",
       "    </tr>\n",
       "    <tr>\n",
       "      <th>1</th>\n",
       "      <td>37</td>\n",
       "      <td>1</td>\n",
       "      <td>130</td>\n",
       "      <td>250</td>\n",
       "      <td>0</td>\n",
       "      <td>187</td>\n",
       "      <td>0</td>\n",
       "      <td>3.5</td>\n",
       "      <td>0</td>\n",
       "      <td>1</td>\n",
       "      <td>0</td>\n",
       "      <td>1</td>\n",
       "      <td>0</td>\n",
       "      <td>0</td>\n",
       "      <td>1</td>\n",
       "      <td>0</td>\n",
       "      <td>1</td>\n",
       "      <td>0</td>\n",
       "      <td>0</td>\n",
       "      <td>0</td>\n",
       "    </tr>\n",
       "    <tr>\n",
       "      <th>2</th>\n",
       "      <td>41</td>\n",
       "      <td>0</td>\n",
       "      <td>130</td>\n",
       "      <td>204</td>\n",
       "      <td>0</td>\n",
       "      <td>172</td>\n",
       "      <td>0</td>\n",
       "      <td>1.4</td>\n",
       "      <td>0</td>\n",
       "      <td>1</td>\n",
       "      <td>1</td>\n",
       "      <td>0</td>\n",
       "      <td>0</td>\n",
       "      <td>0</td>\n",
       "      <td>1</td>\n",
       "      <td>0</td>\n",
       "      <td>0</td>\n",
       "      <td>1</td>\n",
       "      <td>0</td>\n",
       "      <td>1</td>\n",
       "    </tr>\n",
       "    <tr>\n",
       "      <th>3</th>\n",
       "      <td>56</td>\n",
       "      <td>1</td>\n",
       "      <td>120</td>\n",
       "      <td>236</td>\n",
       "      <td>0</td>\n",
       "      <td>178</td>\n",
       "      <td>0</td>\n",
       "      <td>0.8</td>\n",
       "      <td>0</td>\n",
       "      <td>1</td>\n",
       "      <td>1</td>\n",
       "      <td>0</td>\n",
       "      <td>0</td>\n",
       "      <td>0</td>\n",
       "      <td>1</td>\n",
       "      <td>0</td>\n",
       "      <td>1</td>\n",
       "      <td>0</td>\n",
       "      <td>0</td>\n",
       "      <td>1</td>\n",
       "    </tr>\n",
       "    <tr>\n",
       "      <th>4</th>\n",
       "      <td>57</td>\n",
       "      <td>0</td>\n",
       "      <td>120</td>\n",
       "      <td>354</td>\n",
       "      <td>0</td>\n",
       "      <td>163</td>\n",
       "      <td>1</td>\n",
       "      <td>0.6</td>\n",
       "      <td>0</td>\n",
       "      <td>1</td>\n",
       "      <td>0</td>\n",
       "      <td>0</td>\n",
       "      <td>0</td>\n",
       "      <td>0</td>\n",
       "      <td>1</td>\n",
       "      <td>0</td>\n",
       "      <td>1</td>\n",
       "      <td>0</td>\n",
       "      <td>0</td>\n",
       "      <td>1</td>\n",
       "    </tr>\n",
       "  </tbody>\n",
       "</table>\n",
       "</div>"
      ],
      "text/plain": [
       "   age  sex  trestbps  chol  fbs  thalach  exang  oldpeak  ca  target  \\\n",
       "0   63    1       145   233    1      150      0      2.3   0       1   \n",
       "1   37    1       130   250    0      187      0      3.5   0       1   \n",
       "2   41    0       130   204    0      172      0      1.4   0       1   \n",
       "3   56    1       120   236    0      178      0      0.8   0       1   \n",
       "4   57    0       120   354    0      163      1      0.6   0       1   \n",
       "\n",
       "   atypical angina  non-anginal pain  typical angina  fixed_defect  \\\n",
       "0                0                 0               1             1   \n",
       "1                0                 1               0             0   \n",
       "2                1                 0               0             0   \n",
       "3                1                 0               0             0   \n",
       "4                0                 0               0             0   \n",
       "\n",
       "   normal_defect  reversible_defect  normal  ventricular hypertrophy  flat  \\\n",
       "0              0                  0       0                        1     0   \n",
       "1              1                  0       1                        0     0   \n",
       "2              1                  0       0                        1     0   \n",
       "3              1                  0       1                        0     0   \n",
       "4              1                  0       1                        0     0   \n",
       "\n",
       "   upsloping  \n",
       "0          0  \n",
       "1          0  \n",
       "2          1  \n",
       "3          1  \n",
       "4          1  "
      ]
     },
     "execution_count": 18,
     "metadata": {},
     "output_type": "execute_result"
    }
   ],
   "source": [
    "cp = pd.get_dummies(df['cp'], drop_first = True)\n",
    "thal = pd.get_dummies(df['thal'], drop_first = True)\n",
    "restecg = pd.get_dummies(df['restecg'], drop_first = True)\n",
    "slope = pd.get_dummies(df['slope'], drop_first = True)\n",
    "df = pd.concat([df, cp], axis=1)\n",
    "df = pd.concat([df, thal], axis=1)\n",
    "df = pd.concat([df, restecg], axis=1)\n",
    "df = pd.concat([df, slope], axis=1)\n",
    "df =df.drop(columns = ['cp', 'thal', 'slope', 'restecg'], axis = 1)\n",
    "df.head()"
   ]
  },
  {
   "cell_type": "code",
   "execution_count": 19,
   "metadata": {},
   "outputs": [
    {
     "data": {
      "text/html": [
       "<div>\n",
       "<style scoped>\n",
       "    .dataframe tbody tr th:only-of-type {\n",
       "        vertical-align: middle;\n",
       "    }\n",
       "\n",
       "    .dataframe tbody tr th {\n",
       "        vertical-align: top;\n",
       "    }\n",
       "\n",
       "    .dataframe thead th {\n",
       "        text-align: right;\n",
       "    }\n",
       "</style>\n",
       "<table border=\"1\" class=\"dataframe\">\n",
       "  <thead>\n",
       "    <tr style=\"text-align: right;\">\n",
       "      <th></th>\n",
       "      <th>age</th>\n",
       "      <th>sex</th>\n",
       "      <th>trestbps</th>\n",
       "      <th>chol</th>\n",
       "      <th>fbs</th>\n",
       "      <th>thalach</th>\n",
       "      <th>exang</th>\n",
       "      <th>oldpeak</th>\n",
       "      <th>ca</th>\n",
       "      <th>target</th>\n",
       "      <th>atypical angina</th>\n",
       "      <th>non-anginal pain</th>\n",
       "      <th>typical angina</th>\n",
       "      <th>normal_defect</th>\n",
       "      <th>reversible_defect</th>\n",
       "      <th>normal</th>\n",
       "      <th>ventricular hypertrophy</th>\n",
       "      <th>flat</th>\n",
       "      <th>upsloping</th>\n",
       "    </tr>\n",
       "  </thead>\n",
       "  <tbody>\n",
       "    <tr>\n",
       "      <th>0</th>\n",
       "      <td>63</td>\n",
       "      <td>1</td>\n",
       "      <td>145</td>\n",
       "      <td>233</td>\n",
       "      <td>1</td>\n",
       "      <td>150</td>\n",
       "      <td>0</td>\n",
       "      <td>2.3</td>\n",
       "      <td>0</td>\n",
       "      <td>1</td>\n",
       "      <td>0</td>\n",
       "      <td>0</td>\n",
       "      <td>1</td>\n",
       "      <td>0</td>\n",
       "      <td>0</td>\n",
       "      <td>0</td>\n",
       "      <td>1</td>\n",
       "      <td>0</td>\n",
       "      <td>0</td>\n",
       "    </tr>\n",
       "    <tr>\n",
       "      <th>1</th>\n",
       "      <td>37</td>\n",
       "      <td>1</td>\n",
       "      <td>130</td>\n",
       "      <td>250</td>\n",
       "      <td>0</td>\n",
       "      <td>187</td>\n",
       "      <td>0</td>\n",
       "      <td>3.5</td>\n",
       "      <td>0</td>\n",
       "      <td>1</td>\n",
       "      <td>0</td>\n",
       "      <td>1</td>\n",
       "      <td>0</td>\n",
       "      <td>1</td>\n",
       "      <td>0</td>\n",
       "      <td>1</td>\n",
       "      <td>0</td>\n",
       "      <td>0</td>\n",
       "      <td>0</td>\n",
       "    </tr>\n",
       "    <tr>\n",
       "      <th>2</th>\n",
       "      <td>41</td>\n",
       "      <td>0</td>\n",
       "      <td>130</td>\n",
       "      <td>204</td>\n",
       "      <td>0</td>\n",
       "      <td>172</td>\n",
       "      <td>0</td>\n",
       "      <td>1.4</td>\n",
       "      <td>0</td>\n",
       "      <td>1</td>\n",
       "      <td>1</td>\n",
       "      <td>0</td>\n",
       "      <td>0</td>\n",
       "      <td>1</td>\n",
       "      <td>0</td>\n",
       "      <td>0</td>\n",
       "      <td>1</td>\n",
       "      <td>0</td>\n",
       "      <td>1</td>\n",
       "    </tr>\n",
       "    <tr>\n",
       "      <th>3</th>\n",
       "      <td>56</td>\n",
       "      <td>1</td>\n",
       "      <td>120</td>\n",
       "      <td>236</td>\n",
       "      <td>0</td>\n",
       "      <td>178</td>\n",
       "      <td>0</td>\n",
       "      <td>0.8</td>\n",
       "      <td>0</td>\n",
       "      <td>1</td>\n",
       "      <td>1</td>\n",
       "      <td>0</td>\n",
       "      <td>0</td>\n",
       "      <td>1</td>\n",
       "      <td>0</td>\n",
       "      <td>1</td>\n",
       "      <td>0</td>\n",
       "      <td>0</td>\n",
       "      <td>1</td>\n",
       "    </tr>\n",
       "    <tr>\n",
       "      <th>4</th>\n",
       "      <td>57</td>\n",
       "      <td>0</td>\n",
       "      <td>120</td>\n",
       "      <td>354</td>\n",
       "      <td>0</td>\n",
       "      <td>163</td>\n",
       "      <td>1</td>\n",
       "      <td>0.6</td>\n",
       "      <td>0</td>\n",
       "      <td>1</td>\n",
       "      <td>0</td>\n",
       "      <td>0</td>\n",
       "      <td>0</td>\n",
       "      <td>1</td>\n",
       "      <td>0</td>\n",
       "      <td>1</td>\n",
       "      <td>0</td>\n",
       "      <td>0</td>\n",
       "      <td>1</td>\n",
       "    </tr>\n",
       "  </tbody>\n",
       "</table>\n",
       "</div>"
      ],
      "text/plain": [
       "   age  sex  trestbps  chol  fbs  thalach  exang  oldpeak  ca  target  \\\n",
       "0   63    1       145   233    1      150      0      2.3   0       1   \n",
       "1   37    1       130   250    0      187      0      3.5   0       1   \n",
       "2   41    0       130   204    0      172      0      1.4   0       1   \n",
       "3   56    1       120   236    0      178      0      0.8   0       1   \n",
       "4   57    0       120   354    0      163      1      0.6   0       1   \n",
       "\n",
       "   atypical angina  non-anginal pain  typical angina  normal_defect  \\\n",
       "0                0                 0               1              0   \n",
       "1                0                 1               0              1   \n",
       "2                1                 0               0              1   \n",
       "3                1                 0               0              1   \n",
       "4                0                 0               0              1   \n",
       "\n",
       "   reversible_defect  normal  ventricular hypertrophy  flat  upsloping  \n",
       "0                  0       0                        1     0          0  \n",
       "1                  0       1                        0     0          0  \n",
       "2                  0       0                        1     0          1  \n",
       "3                  0       1                        0     0          1  \n",
       "4                  0       1                        0     0          1  "
      ]
     },
     "execution_count": 19,
     "metadata": {},
     "output_type": "execute_result"
    }
   ],
   "source": [
    "df = df.drop(['fixed_defect'], axis=1)\n",
    "df.head()"
   ]
  },
  {
   "cell_type": "code",
   "execution_count": 20,
   "metadata": {},
   "outputs": [
    {
     "data": {
      "text/plain": [
       "(302, 19)"
      ]
     },
     "execution_count": 20,
     "metadata": {},
     "output_type": "execute_result"
    }
   ],
   "source": [
    "df = df.drop_duplicates()\n",
    "df.shape"
   ]
  },
  {
   "cell_type": "code",
   "execution_count": 22,
   "metadata": {},
   "outputs": [
    {
     "data": {
      "text/plain": [
       "<matplotlib.axes._subplots.AxesSubplot at 0x19bf8e9aa58>"
      ]
     },
     "execution_count": 22,
     "metadata": {},
     "output_type": "execute_result"
    },
    {
     "data": {
      "image/png": "[encoded data removed]",
      "text/plain": [
       "<Figure size 1440x1440 with 2 Axes>"
      ]
     },
     "metadata": {},
     "output_type": "display_data"
    }
   ],
   "source": [
    "plt.figure(figsize = (20, 20))\n",
    "sns.heatmap(df.corr(), annot = True, cmap=plt.cm.Blues)"
   ]
  },
  {
   "cell_type": "markdown",
   "metadata": {},
   "source": [
    "As none of the dependent variables have high correlation with each other, there is no need to eliminate variables based on correlation."
   ]
  },
  {
   "cell_type": "markdown",
   "metadata": {},
   "source": [
    "# Model Building"
   ]
  },
  {
   "cell_type": "code",
   "execution_count": 23,
   "metadata": {},
   "outputs": [
    {
     "data": {
      "text/html": [
       "<div>\n",
       "<style scoped>\n",
       "    .dataframe tbody tr th:only-of-type {\n",
       "        vertical-align: middle;\n",
       "    }\n",
       "\n",
       "    .dataframe tbody tr th {\n",
       "        vertical-align: top;\n",
       "    }\n",
       "\n",
       "    .dataframe thead th {\n",
       "        text-align: right;\n",
       "    }\n",
       "</style>\n",
       "<table border=\"1\" class=\"dataframe\">\n",
       "  <thead>\n",
       "    <tr style=\"text-align: right;\">\n",
       "      <th></th>\n",
       "      <th>age</th>\n",
       "      <th>sex</th>\n",
       "      <th>trestbps</th>\n",
       "      <th>chol</th>\n",
       "      <th>fbs</th>\n",
       "      <th>thalach</th>\n",
       "      <th>exang</th>\n",
       "      <th>oldpeak</th>\n",
       "      <th>ca</th>\n",
       "      <th>atypical angina</th>\n",
       "      <th>non-anginal pain</th>\n",
       "      <th>typical angina</th>\n",
       "      <th>normal_defect</th>\n",
       "      <th>reversible_defect</th>\n",
       "      <th>normal</th>\n",
       "      <th>ventricular hypertrophy</th>\n",
       "      <th>flat</th>\n",
       "      <th>upsloping</th>\n",
       "    </tr>\n",
       "  </thead>\n",
       "  <tbody>\n",
       "    <tr>\n",
       "      <th>0</th>\n",
       "      <td>63</td>\n",
       "      <td>1</td>\n",
       "      <td>145</td>\n",
       "      <td>233</td>\n",
       "      <td>1</td>\n",
       "      <td>150</td>\n",
       "      <td>0</td>\n",
       "      <td>2.3</td>\n",
       "      <td>0</td>\n",
       "      <td>0</td>\n",
       "      <td>0</td>\n",
       "      <td>1</td>\n",
       "      <td>0</td>\n",
       "      <td>0</td>\n",
       "      <td>0</td>\n",
       "      <td>1</td>\n",
       "      <td>0</td>\n",
       "      <td>0</td>\n",
       "    </tr>\n",
       "    <tr>\n",
       "      <th>1</th>\n",
       "      <td>37</td>\n",
       "      <td>1</td>\n",
       "      <td>130</td>\n",
       "      <td>250</td>\n",
       "      <td>0</td>\n",
       "      <td>187</td>\n",
       "      <td>0</td>\n",
       "      <td>3.5</td>\n",
       "      <td>0</td>\n",
       "      <td>0</td>\n",
       "      <td>1</td>\n",
       "      <td>0</td>\n",
       "      <td>1</td>\n",
       "      <td>0</td>\n",
       "      <td>1</td>\n",
       "      <td>0</td>\n",
       "      <td>0</td>\n",
       "      <td>0</td>\n",
       "    </tr>\n",
       "    <tr>\n",
       "      <th>2</th>\n",
       "      <td>41</td>\n",
       "      <td>0</td>\n",
       "      <td>130</td>\n",
       "      <td>204</td>\n",
       "      <td>0</td>\n",
       "      <td>172</td>\n",
       "      <td>0</td>\n",
       "      <td>1.4</td>\n",
       "      <td>0</td>\n",
       "      <td>1</td>\n",
       "      <td>0</td>\n",
       "      <td>0</td>\n",
       "      <td>1</td>\n",
       "      <td>0</td>\n",
       "      <td>0</td>\n",
       "      <td>1</td>\n",
       "      <td>0</td>\n",
       "      <td>1</td>\n",
       "    </tr>\n",
       "    <tr>\n",
       "      <th>3</th>\n",
       "      <td>56</td>\n",
       "      <td>1</td>\n",
       "      <td>120</td>\n",
       "      <td>236</td>\n",
       "      <td>0</td>\n",
       "      <td>178</td>\n",
       "      <td>0</td>\n",
       "      <td>0.8</td>\n",
       "      <td>0</td>\n",
       "      <td>1</td>\n",
       "      <td>0</td>\n",
       "      <td>0</td>\n",
       "      <td>1</td>\n",
       "      <td>0</td>\n",
       "      <td>1</td>\n",
       "      <td>0</td>\n",
       "      <td>0</td>\n",
       "      <td>1</td>\n",
       "    </tr>\n",
       "    <tr>\n",
       "      <th>4</th>\n",
       "      <td>57</td>\n",
       "      <td>0</td>\n",
       "      <td>120</td>\n",
       "      <td>354</td>\n",
       "      <td>0</td>\n",
       "      <td>163</td>\n",
       "      <td>1</td>\n",
       "      <td>0.6</td>\n",
       "      <td>0</td>\n",
       "      <td>0</td>\n",
       "      <td>0</td>\n",
       "      <td>0</td>\n",
       "      <td>1</td>\n",
       "      <td>0</td>\n",
       "      <td>1</td>\n",
       "      <td>0</td>\n",
       "      <td>0</td>\n",
       "      <td>1</td>\n",
       "    </tr>\n",
       "  </tbody>\n",
       "</table>\n",
       "</div>"
      ],
      "text/plain": [
       "   age  sex  trestbps  chol  fbs  thalach  exang  oldpeak  ca  \\\n",
       "0   63    1       145   233    1      150      0      2.3   0   \n",
       "1   37    1       130   250    0      187      0      3.5   0   \n",
       "2   41    0       130   204    0      172      0      1.4   0   \n",
       "3   56    1       120   236    0      178      0      0.8   0   \n",
       "4   57    0       120   354    0      163      1      0.6   0   \n",
       "\n",
       "   atypical angina  non-anginal pain  typical angina  normal_defect  \\\n",
       "0                0                 0               1              0   \n",
       "1                0                 1               0              1   \n",
       "2                1                 0               0              1   \n",
       "3                1                 0               0              1   \n",
       "4                0                 0               0              1   \n",
       "\n",
       "   reversible_defect  normal  ventricular hypertrophy  flat  upsloping  \n",
       "0                  0       0                        1     0          0  \n",
       "1                  0       1                        0     0          0  \n",
       "2                  0       0                        1     0          1  \n",
       "3                  0       1                        0     0          1  \n",
       "4                  0       1                        0     0          1  "
      ]
     },
     "execution_count": 23,
     "metadata": {},
     "output_type": "execute_result"
    }
   ],
   "source": [
    "X = df.drop(['target'], axis = 1)\n",
    "y = df['target']\n",
    "X.head()"
   ]
  },
  {
   "cell_type": "code",
   "execution_count": 24,
   "metadata": {},
   "outputs": [],
   "source": [
    "# Feature Scaling\n",
    "from sklearn.preprocessing import StandardScaler\n",
    "sc_X = StandardScaler()\n",
    "X = sc_X.fit_transform(X)"
   ]
  },
  {
   "cell_type": "code",
   "execution_count": 25,
   "metadata": {},
   "outputs": [],
   "source": [
    "# Splitting the dataset into training and testing set\n",
    "from sklearn.model_selection import train_test_split\n",
    "X_train, X_test, y_train, y_test = train_test_split(X, y, train_size=0.8)"
   ]
  },
  {
   "cell_type": "code",
   "execution_count": 26,
   "metadata": {},
   "outputs": [],
   "source": [
    "# Using GridSearchCV to find the best algorithm for this problem\n",
    "from sklearn.model_selection import GridSearchCV\n",
    "from sklearn.model_selection import ShuffleSplit\n",
    "from sklearn.linear_model import LogisticRegression\n",
    "from sklearn.tree import DecisionTreeClassifier\n",
    "from sklearn.ensemble import RandomForestClassifier\n",
    "from sklearn.svm import SVC"
   ]
  },
  {
   "cell_type": "code",
   "execution_count": 30,
   "metadata": {},
   "outputs": [
    {
     "data": {
      "text/html": [
       "<div>\n",
       "<style scoped>\n",
       "    .dataframe tbody tr th:only-of-type {\n",
       "        vertical-align: middle;\n",
       "    }\n",
       "\n",
       "    .dataframe tbody tr th {\n",
       "        vertical-align: top;\n",
       "    }\n",
       "\n",
       "    .dataframe thead th {\n",
       "        text-align: right;\n",
       "    }\n",
       "</style>\n",
       "<table border=\"1\" class=\"dataframe\">\n",
       "  <thead>\n",
       "    <tr style=\"text-align: right;\">\n",
       "      <th></th>\n",
       "      <th>model</th>\n",
       "      <th>best_parameters</th>\n",
       "      <th>score</th>\n",
       "    </tr>\n",
       "  </thead>\n",
       "  <tbody>\n",
       "    <tr>\n",
       "      <th>0</th>\n",
       "      <td>logistic_regression</td>\n",
       "      <td>{'C': 1}</td>\n",
       "      <td>0.828571</td>\n",
       "    </tr>\n",
       "    <tr>\n",
       "      <th>1</th>\n",
       "      <td>decision_tree</td>\n",
       "      <td>{'criterion': 'entropy', 'max_depth': 5}</td>\n",
       "      <td>0.767347</td>\n",
       "    </tr>\n",
       "    <tr>\n",
       "      <th>2</th>\n",
       "      <td>random_forest</td>\n",
       "      <td>{'n_estimators': 50}</td>\n",
       "      <td>0.812245</td>\n",
       "    </tr>\n",
       "    <tr>\n",
       "      <th>3</th>\n",
       "      <td>svm</td>\n",
       "      <td>{'C': 1, 'kernel': 'linear'}</td>\n",
       "      <td>0.828571</td>\n",
       "    </tr>\n",
       "  </tbody>\n",
       "</table>\n",
       "</div>"
      ],
      "text/plain": [
       "                 model                           best_parameters     score\n",
       "0  logistic_regression                                  {'C': 1}  0.828571\n",
       "1        decision_tree  {'criterion': 'entropy', 'max_depth': 5}  0.767347\n",
       "2        random_forest                      {'n_estimators': 50}  0.812245\n",
       "3                  svm              {'C': 1, 'kernel': 'linear'}  0.828571"
      ]
     },
     "execution_count": 30,
     "metadata": {},
     "output_type": "execute_result"
    }
   ],
   "source": [
    "# Creating a function to calculate best model for this problem\n",
    "\n",
    "def best_model(X, y):\n",
    "    models = {\n",
    "        'logistic_regression': {\n",
    "            'model': LogisticRegression(solver='lbfgs', multi_class='auto'),\n",
    "            'parameters': {\n",
    "                'C': [1,5,10]\n",
    "               }\n",
    "        },\n",
    "        \n",
    "        'decision_tree': {\n",
    "            'model': DecisionTreeClassifier(splitter='best'),\n",
    "            'parameters': {\n",
    "                'criterion': ['gini', 'entropy'],\n",
    "                'max_depth': [5,10]\n",
    "            }\n",
    "        },\n",
    "        \n",
    "        'random_forest': {\n",
    "            'model': RandomForestClassifier(criterion='gini'),\n",
    "            'parameters': {\n",
    "                'n_estimators': [10,15,20,50,100,200]\n",
    "            }\n",
    "        },\n",
    "        \n",
    "        'svm': {\n",
    "            'model': SVC(gamma='auto'),\n",
    "            'parameters': {\n",
    "                'C': [1,10,20],\n",
    "                'kernel': ['rbf','linear']\n",
    "            }\n",
    "        }   \n",
    "    }\n",
    "    \n",
    "    scores = []\n",
    "    cv_shuffle = ShuffleSplit(n_splits=5, test_size=0.20, random_state=0)\n",
    "    \n",
    "    for model_name, model_params in models.items():\n",
    "        gs = GridSearchCV(model_params['model'], model_params['parameters'], cv=cv_shuffle, return_train_score=False)\n",
    "        gs.fit(X, y)\n",
    "        scores.append({\n",
    "            'model': model_name,\n",
    "            'best_parameters': gs.best_params_,\n",
    "            'score': gs.best_score_\n",
    "        })\n",
    "        \n",
    "    return pd.DataFrame(scores, columns=['model','best_parameters','score'])\n",
    "\n",
    "best_model(X_train, y_train)"
   ]
  },
  {
   "cell_type": "markdown",
   "metadata": {},
   "source": [
    "As Logistic Regression algorithm has the maximum accuracy we fine tune the model using hyperparameter optimization."
   ]
  },
  {
   "cell_type": "code",
   "execution_count": 35,
   "metadata": {},
   "outputs": [
    {
     "name": "stdout",
     "output_type": "stream",
     "text": [
      "Average Accuracy : 82.0%\n"
     ]
    }
   ],
   "source": [
    "# Using cross_val_score for gaining average accuracy\n",
    "from sklearn.model_selection import cross_val_score\n",
    "scores = cross_val_score(LogisticRegression(C=10, solver='lbfgs'), X_train, y_train, cv=5)\n",
    "print('Average Accuracy : {}%'.format(round(sum(scores)*100/len(scores)), 3))"
   ]
  },
  {
   "cell_type": "code",
   "execution_count": 36,
   "metadata": {},
   "outputs": [
    {
     "data": {
      "text/plain": [
       "LogisticRegression(C=1, class_weight=None, dual=False, fit_intercept=True,\n",
       "                   intercept_scaling=1, l1_ratio=None, max_iter=100,\n",
       "                   multi_class='warn', n_jobs=None, penalty='l2',\n",
       "                   random_state=0, solver='lbfgs', tol=0.0001, verbose=0,\n",
       "                   warm_start=False)"
      ]
     },
     "execution_count": 36,
     "metadata": {},
     "output_type": "execute_result"
    }
   ],
   "source": [
    "# Creating Model\n",
    "classifier = LogisticRegression(C=1, solver='lbfgs', random_state=0)\n",
    "classifier.fit(X_train, y_train)"
   ]
  },
  {
   "cell_type": "code",
   "execution_count": 42,
   "metadata": {},
   "outputs": [
    {
     "name": "stderr",
     "output_type": "stream",
     "text": [
      "C:\\Users\\DELL\\Anaconda3\\lib\\site-packages\\ipykernel_launcher.py:3: UserWarning: Update your `Dense` call to the Keras 2 API: `Dense(activation=\"relu\", input_dim=18, units=8, kernel_initializer=\"he_uniform\")`\n",
      "  This is separate from the ipykernel package so we can avoid doing imports until\n"
     ]
    },
    {
     "name": "stdout",
     "output_type": "stream",
     "text": [
      "WARNING:tensorflow:From C:\\Users\\DELL\\Anaconda3\\lib\\site-packages\\tensorflow\\python\\ops\\resource_variable_ops.py:435: colocate_with (from tensorflow.python.framework.ops) is deprecated and will be removed in a future version.\n",
      "Instructions for updating:\n",
      "Colocations handled automatically by placer.\n"
     ]
    },
    {
     "name": "stderr",
     "output_type": "stream",
     "text": [
      "C:\\Users\\DELL\\Anaconda3\\lib\\site-packages\\ipykernel_launcher.py:5: UserWarning: Update your `Dense` call to the Keras 2 API: `Dense(activation=\"sigmoid\", units=1, kernel_initializer=\"glorot_uniform\")`\n",
      "  \"\"\"\n"
     ]
    }
   ],
   "source": [
    "# Trying ANN approach\n",
    "clf = Sequential()\n",
    "\n",
    "clf.add(Dense(output_dim = 8, init = 'he_uniform', activation = 'relu', input_dim = 18))\n",
    "#clf.add(Dense(output_dim = 8, init = 'he_uniform', activation = 'relu'))\n",
    "clf.add(Dense(output_dim = 1, init = 'glorot_uniform', activation = 'sigmoid'))\n",
    "\n",
    "clf.compile(optimizer = 'adam', loss = 'binary_crossentropy', metrics = ['accuracy'])"
   ]
  },
  {
   "cell_type": "code",
   "execution_count": 43,
   "metadata": {},
   "outputs": [
    {
     "name": "stderr",
     "output_type": "stream",
     "text": [
      "C:\\Users\\DELL\\Anaconda3\\lib\\site-packages\\ipykernel_launcher.py:1: UserWarning: The `nb_epoch` argument in `fit` has been renamed `epochs`.\n",
      "  \"\"\"Entry point for launching an IPython kernel.\n"
     ]
    },
    {
     "name": "stdout",
     "output_type": "stream",
     "text": [
      "WARNING:tensorflow:From C:\\Users\\DELL\\Anaconda3\\lib\\site-packages\\tensorflow\\python\\ops\\math_ops.py:3066: to_int32 (from tensorflow.python.ops.math_ops) is deprecated and will be removed in a future version.\n",
      "Instructions for updating:\n",
      "Use tf.cast instead.\n",
      "Train on 168 samples, validate on 73 samples\n",
      "Epoch 1/100\n",
      "168/168 [==============================] - 1s 7ms/step - loss: 0.7611 - accuracy: 0.5357 - val_loss: 0.8340 - val_accuracy: 0.5479\n",
      "Epoch 2/100\n",
      "168/168 [==============================] - 0s 117us/step - loss: 0.7103 - accuracy: 0.5655 - val_loss: 0.7830 - val_accuracy: 0.5479\n",
      "Epoch 3/100\n",
      "168/168 [==============================] - 0s 121us/step - loss: 0.6708 - accuracy: 0.6131 - val_loss: 0.7363 - val_accuracy: 0.5616\n",
      "Epoch 4/100\n",
      "168/168 [==============================] - 0s 125us/step - loss: 0.6360 - accuracy: 0.6250 - val_loss: 0.6947 - val_accuracy: 0.5616\n",
      "Epoch 5/100\n",
      "168/168 [==============================] - 0s 142us/step - loss: 0.6059 - accuracy: 0.6548 - val_loss: 0.6582 - val_accuracy: 0.5890\n",
      "Epoch 6/100\n",
      "168/168 [==============================] - 0s 130us/step - loss: 0.5800 - accuracy: 0.6786 - val_loss: 0.6253 - val_accuracy: 0.6027\n",
      "Epoch 7/100\n",
      "168/168 [==============================] - 0s 137us/step - loss: 0.5576 - accuracy: 0.6964 - val_loss: 0.5973 - val_accuracy: 0.6301\n",
      "Epoch 8/100\n",
      "168/168 [==============================] - 0s 107us/step - loss: 0.5383 - accuracy: 0.7321 - val_loss: 0.5731 - val_accuracy: 0.6712\n",
      "Epoch 9/100\n",
      "168/168 [==============================] - 0s 129us/step - loss: 0.5215 - accuracy: 0.7619 - val_loss: 0.5514 - val_accuracy: 0.6986\n",
      "Epoch 10/100\n",
      "168/168 [==============================] - 0s 137us/step - loss: 0.5067 - accuracy: 0.7857 - val_loss: 0.5331 - val_accuracy: 0.7534\n",
      "Epoch 11/100\n",
      "168/168 [==============================] - 0s 130us/step - loss: 0.4948 - accuracy: 0.7917 - val_loss: 0.5167 - val_accuracy: 0.7671\n",
      "Epoch 12/100\n",
      "168/168 [==============================] - 0s 143us/step - loss: 0.4845 - accuracy: 0.8095 - val_loss: 0.5016 - val_accuracy: 0.7808\n",
      "Epoch 13/100\n",
      "168/168 [==============================] - 0s 125us/step - loss: 0.4747 - accuracy: 0.8095 - val_loss: 0.4892 - val_accuracy: 0.7808\n",
      "Epoch 14/100\n",
      "168/168 [==============================] - 0s 131us/step - loss: 0.4660 - accuracy: 0.8155 - val_loss: 0.4785 - val_accuracy: 0.7808\n",
      "Epoch 15/100\n",
      "168/168 [==============================] - 0s 137us/step - loss: 0.4581 - accuracy: 0.8214 - val_loss: 0.4680 - val_accuracy: 0.8219\n",
      "Epoch 16/100\n",
      "168/168 [==============================] - 0s 124us/step - loss: 0.4515 - accuracy: 0.8214 - val_loss: 0.4590 - val_accuracy: 0.8356\n",
      "Epoch 17/100\n",
      "168/168 [==============================] - 0s 131us/step - loss: 0.4450 - accuracy: 0.8214 - val_loss: 0.4513 - val_accuracy: 0.8493\n",
      "Epoch 18/100\n",
      "168/168 [==============================] - 0s 160us/step - loss: 0.4396 - accuracy: 0.8214 - val_loss: 0.4433 - val_accuracy: 0.8493\n",
      "Epoch 19/100\n",
      "168/168 [==============================] - 0s 154us/step - loss: 0.4345 - accuracy: 0.8214 - val_loss: 0.4365 - val_accuracy: 0.8493\n",
      "Epoch 20/100\n",
      "168/168 [==============================] - 0s 160us/step - loss: 0.4292 - accuracy: 0.8214 - val_loss: 0.4306 - val_accuracy: 0.8219\n",
      "Epoch 21/100\n",
      "168/168 [==============================] - 0s 160us/step - loss: 0.4249 - accuracy: 0.8214 - val_loss: 0.4248 - val_accuracy: 0.8219\n",
      "Epoch 22/100\n",
      "168/168 [==============================] - 0s 125us/step - loss: 0.4201 - accuracy: 0.8214 - val_loss: 0.4194 - val_accuracy: 0.8219\n",
      "Epoch 23/100\n",
      "168/168 [==============================] - 0s 142us/step - loss: 0.4162 - accuracy: 0.8274 - val_loss: 0.4145 - val_accuracy: 0.8356\n",
      "Epoch 24/100\n",
      "168/168 [==============================] - 0s 148us/step - loss: 0.4119 - accuracy: 0.8274 - val_loss: 0.4086 - val_accuracy: 0.8356\n",
      "Epoch 25/100\n",
      "168/168 [==============================] - 0s 131us/step - loss: 0.4085 - accuracy: 0.8274 - val_loss: 0.4044 - val_accuracy: 0.8356\n",
      "Epoch 26/100\n",
      "168/168 [==============================] - 0s 137us/step - loss: 0.4053 - accuracy: 0.8274 - val_loss: 0.3997 - val_accuracy: 0.8493\n",
      "Epoch 27/100\n",
      "168/168 [==============================] - 0s 130us/step - loss: 0.4013 - accuracy: 0.8274 - val_loss: 0.3959 - val_accuracy: 0.8493\n",
      "Epoch 28/100\n",
      "168/168 [==============================] - 0s 142us/step - loss: 0.3977 - accuracy: 0.8333 - val_loss: 0.3922 - val_accuracy: 0.8493\n",
      "Epoch 29/100\n",
      "168/168 [==============================] - 0s 142us/step - loss: 0.3948 - accuracy: 0.8393 - val_loss: 0.3883 - val_accuracy: 0.8493\n",
      "Epoch 30/100\n",
      "168/168 [==============================] - 0s 137us/step - loss: 0.3916 - accuracy: 0.8333 - val_loss: 0.3850 - val_accuracy: 0.8493\n",
      "Epoch 31/100\n",
      "168/168 [==============================] - 0s 131us/step - loss: 0.3886 - accuracy: 0.8393 - val_loss: 0.3816 - val_accuracy: 0.8493\n",
      "Epoch 32/100\n",
      "168/168 [==============================] - 0s 136us/step - loss: 0.3856 - accuracy: 0.8452 - val_loss: 0.3784 - val_accuracy: 0.8630\n",
      "Epoch 33/100\n",
      "168/168 [==============================] - 0s 142us/step - loss: 0.3830 - accuracy: 0.8452 - val_loss: 0.3760 - val_accuracy: 0.8904\n",
      "Epoch 34/100\n",
      "168/168 [==============================] - 0s 154us/step - loss: 0.3806 - accuracy: 0.8452 - val_loss: 0.3728 - val_accuracy: 0.8904\n",
      "Epoch 35/100\n",
      "168/168 [==============================] - 0s 119us/step - loss: 0.3779 - accuracy: 0.8452 - val_loss: 0.3707 - val_accuracy: 0.8904\n",
      "Epoch 36/100\n",
      "168/168 [==============================] - 0s 136us/step - loss: 0.3755 - accuracy: 0.8452 - val_loss: 0.3682 - val_accuracy: 0.8904\n",
      "Epoch 37/100\n",
      "168/168 [==============================] - 0s 130us/step - loss: 0.3730 - accuracy: 0.8452 - val_loss: 0.3654 - val_accuracy: 0.8904\n",
      "Epoch 38/100\n",
      "168/168 [==============================] - 0s 136us/step - loss: 0.3708 - accuracy: 0.8452 - val_loss: 0.3636 - val_accuracy: 0.8904\n",
      "Epoch 39/100\n",
      "168/168 [==============================] - 0s 125us/step - loss: 0.3687 - accuracy: 0.8452 - val_loss: 0.3606 - val_accuracy: 0.8904\n",
      "Epoch 40/100\n",
      "168/168 [==============================] - 0s 125us/step - loss: 0.3662 - accuracy: 0.8512 - val_loss: 0.3589 - val_accuracy: 0.8904\n",
      "Epoch 41/100\n",
      "168/168 [==============================] - 0s 118us/step - loss: 0.3642 - accuracy: 0.8512 - val_loss: 0.3565 - val_accuracy: 0.8904\n",
      "Epoch 42/100\n",
      "168/168 [==============================] - 0s 131us/step - loss: 0.3618 - accuracy: 0.8512 - val_loss: 0.3543 - val_accuracy: 0.8904\n",
      "Epoch 43/100\n",
      "168/168 [==============================] - 0s 125us/step - loss: 0.3596 - accuracy: 0.8512 - val_loss: 0.3522 - val_accuracy: 0.8904\n",
      "Epoch 44/100\n",
      "168/168 [==============================] - 0s 130us/step - loss: 0.3575 - accuracy: 0.8512 - val_loss: 0.3501 - val_accuracy: 0.8904\n",
      "Epoch 45/100\n",
      "168/168 [==============================] - 0s 131us/step - loss: 0.3555 - accuracy: 0.8512 - val_loss: 0.3488 - val_accuracy: 0.8904\n",
      "Epoch 46/100\n",
      "168/168 [==============================] - 0s 141us/step - loss: 0.3532 - accuracy: 0.8571 - val_loss: 0.3471 - val_accuracy: 0.8904\n",
      "Epoch 47/100\n",
      "168/168 [==============================] - 0s 125us/step - loss: 0.3515 - accuracy: 0.8571 - val_loss: 0.3447 - val_accuracy: 0.8904\n",
      "Epoch 48/100\n",
      "168/168 [==============================] - 0s 137us/step - loss: 0.3492 - accuracy: 0.8571 - val_loss: 0.3432 - val_accuracy: 0.8904\n",
      "Epoch 49/100\n",
      "168/168 [==============================] - 0s 106us/step - loss: 0.3473 - accuracy: 0.8571 - val_loss: 0.3411 - val_accuracy: 0.8904\n",
      "Epoch 50/100\n",
      "168/168 [==============================] - 0s 119us/step - loss: 0.3456 - accuracy: 0.8571 - val_loss: 0.3399 - val_accuracy: 0.8904\n",
      "Epoch 51/100\n",
      "168/168 [==============================] - 0s 119us/step - loss: 0.3433 - accuracy: 0.8571 - val_loss: 0.3385 - val_accuracy: 0.8904\n",
      "Epoch 52/100\n",
      "168/168 [==============================] - 0s 107us/step - loss: 0.3415 - accuracy: 0.8571 - val_loss: 0.3367 - val_accuracy: 0.8904\n",
      "Epoch 53/100\n",
      "168/168 [==============================] - 0s 142us/step - loss: 0.3394 - accuracy: 0.8571 - val_loss: 0.3357 - val_accuracy: 0.8904\n",
      "Epoch 54/100\n",
      "168/168 [==============================] - 0s 132us/step - loss: 0.3376 - accuracy: 0.8571 - val_loss: 0.3341 - val_accuracy: 0.8904\n",
      "Epoch 55/100\n"
     ]
    },
    {
     "name": "stdout",
     "output_type": "stream",
     "text": [
      "168/168 [==============================] - 0s 131us/step - loss: 0.3357 - accuracy: 0.8631 - val_loss: 0.3326 - val_accuracy: 0.8904\n",
      "Epoch 56/100\n",
      "168/168 [==============================] - 0s 137us/step - loss: 0.3337 - accuracy: 0.8631 - val_loss: 0.3314 - val_accuracy: 0.8904\n",
      "Epoch 57/100\n",
      "168/168 [==============================] - 0s 119us/step - loss: 0.3317 - accuracy: 0.8631 - val_loss: 0.3303 - val_accuracy: 0.8904\n",
      "Epoch 58/100\n",
      "168/168 [==============================] - 0s 361us/step - loss: 0.3301 - accuracy: 0.8690 - val_loss: 0.3293 - val_accuracy: 0.8904\n",
      "Epoch 59/100\n",
      "168/168 [==============================] - 0s 321us/step - loss: 0.3281 - accuracy: 0.8690 - val_loss: 0.3278 - val_accuracy: 0.8904\n",
      "Epoch 60/100\n",
      "168/168 [==============================] - 0s 220us/step - loss: 0.3267 - accuracy: 0.8690 - val_loss: 0.3264 - val_accuracy: 0.8904\n",
      "Epoch 61/100\n",
      "168/168 [==============================] - 0s 123us/step - loss: 0.3247 - accuracy: 0.8690 - val_loss: 0.3257 - val_accuracy: 0.9041\n",
      "Epoch 62/100\n",
      "168/168 [==============================] - 0s 107us/step - loss: 0.3233 - accuracy: 0.8690 - val_loss: 0.3247 - val_accuracy: 0.8904\n",
      "Epoch 63/100\n",
      "168/168 [==============================] - 0s 113us/step - loss: 0.3215 - accuracy: 0.8690 - val_loss: 0.3238 - val_accuracy: 0.9041\n",
      "Epoch 64/100\n",
      "168/168 [==============================] - 0s 101us/step - loss: 0.3200 - accuracy: 0.8690 - val_loss: 0.3230 - val_accuracy: 0.9041\n",
      "Epoch 65/100\n",
      "168/168 [==============================] - 0s 119us/step - loss: 0.3184 - accuracy: 0.8690 - val_loss: 0.3219 - val_accuracy: 0.9041\n",
      "Epoch 66/100\n",
      "168/168 [==============================] - 0s 113us/step - loss: 0.3171 - accuracy: 0.8690 - val_loss: 0.3213 - val_accuracy: 0.9041\n",
      "Epoch 67/100\n",
      "168/168 [==============================] - 0s 120us/step - loss: 0.3158 - accuracy: 0.8750 - val_loss: 0.3211 - val_accuracy: 0.9041\n",
      "Epoch 68/100\n",
      "168/168 [==============================] - 0s 125us/step - loss: 0.3141 - accuracy: 0.8750 - val_loss: 0.3195 - val_accuracy: 0.9041\n",
      "Epoch 69/100\n",
      "168/168 [==============================] - 0s 118us/step - loss: 0.3128 - accuracy: 0.8750 - val_loss: 0.3194 - val_accuracy: 0.9041\n",
      "Epoch 70/100\n",
      "168/168 [==============================] - 0s 125us/step - loss: 0.3114 - accuracy: 0.8750 - val_loss: 0.3186 - val_accuracy: 0.8904\n",
      "Epoch 71/100\n",
      "168/168 [==============================] - 0s 119us/step - loss: 0.3101 - accuracy: 0.8750 - val_loss: 0.3179 - val_accuracy: 0.8904\n",
      "Epoch 72/100\n",
      "168/168 [==============================] - 0s 125us/step - loss: 0.3084 - accuracy: 0.8750 - val_loss: 0.3168 - val_accuracy: 0.8904\n",
      "Epoch 73/100\n",
      "168/168 [==============================] - 0s 118us/step - loss: 0.3074 - accuracy: 0.8750 - val_loss: 0.3168 - val_accuracy: 0.8904\n",
      "Epoch 74/100\n",
      "168/168 [==============================] - 0s 107us/step - loss: 0.3060 - accuracy: 0.8750 - val_loss: 0.3165 - val_accuracy: 0.8767\n",
      "Epoch 75/100\n",
      "168/168 [==============================] - 0s 125us/step - loss: 0.3047 - accuracy: 0.8690 - val_loss: 0.3158 - val_accuracy: 0.8767\n",
      "Epoch 76/100\n",
      "168/168 [==============================] - 0s 118us/step - loss: 0.3035 - accuracy: 0.8690 - val_loss: 0.3147 - val_accuracy: 0.8767\n",
      "Epoch 77/100\n",
      "168/168 [==============================] - 0s 109us/step - loss: 0.3019 - accuracy: 0.8690 - val_loss: 0.3141 - val_accuracy: 0.8767\n",
      "Epoch 78/100\n",
      "168/168 [==============================] - 0s 119us/step - loss: 0.3008 - accuracy: 0.8690 - val_loss: 0.3140 - val_accuracy: 0.8767\n",
      "Epoch 79/100\n",
      "168/168 [==============================] - 0s 109us/step - loss: 0.2991 - accuracy: 0.8690 - val_loss: 0.3137 - val_accuracy: 0.8767\n",
      "Epoch 80/100\n",
      "168/168 [==============================] - 0s 112us/step - loss: 0.2980 - accuracy: 0.8690 - val_loss: 0.3136 - val_accuracy: 0.8767\n",
      "Epoch 81/100\n",
      "168/168 [==============================] - 0s 113us/step - loss: 0.2970 - accuracy: 0.8690 - val_loss: 0.3132 - val_accuracy: 0.8767\n",
      "Epoch 82/100\n",
      "168/168 [==============================] - 0s 113us/step - loss: 0.2951 - accuracy: 0.8810 - val_loss: 0.3124 - val_accuracy: 0.8767\n",
      "Epoch 83/100\n",
      "168/168 [==============================] - 0s 119us/step - loss: 0.2944 - accuracy: 0.8810 - val_loss: 0.3132 - val_accuracy: 0.8767\n",
      "Epoch 84/100\n",
      "168/168 [==============================] - 0s 113us/step - loss: 0.2932 - accuracy: 0.8750 - val_loss: 0.3122 - val_accuracy: 0.8767\n",
      "Epoch 85/100\n",
      "168/168 [==============================] - 0s 113us/step - loss: 0.2916 - accuracy: 0.8750 - val_loss: 0.3120 - val_accuracy: 0.8767\n",
      "Epoch 86/100\n",
      "168/168 [==============================] - 0s 113us/step - loss: 0.2901 - accuracy: 0.8810 - val_loss: 0.3115 - val_accuracy: 0.8767\n",
      "Epoch 87/100\n",
      "168/168 [==============================] - 0s 119us/step - loss: 0.2888 - accuracy: 0.8810 - val_loss: 0.3119 - val_accuracy: 0.8767\n",
      "Epoch 88/100\n",
      "168/168 [==============================] - 0s 113us/step - loss: 0.2880 - accuracy: 0.8810 - val_loss: 0.3115 - val_accuracy: 0.8767\n",
      "Epoch 89/100\n",
      "168/168 [==============================] - 0s 118us/step - loss: 0.2867 - accuracy: 0.8810 - val_loss: 0.3123 - val_accuracy: 0.8904\n",
      "Epoch 90/100\n",
      "168/168 [==============================] - 0s 142us/step - loss: 0.2856 - accuracy: 0.8810 - val_loss: 0.3120 - val_accuracy: 0.8904\n",
      "Epoch 91/100\n",
      "168/168 [==============================] - 0s 119us/step - loss: 0.2844 - accuracy: 0.8750 - val_loss: 0.3118 - val_accuracy: 0.8904\n",
      "Epoch 92/100\n",
      "168/168 [==============================] - 0s 119us/step - loss: 0.2831 - accuracy: 0.8810 - val_loss: 0.3110 - val_accuracy: 0.8904\n",
      "Epoch 93/100\n",
      "168/168 [==============================] - 0s 107us/step - loss: 0.2822 - accuracy: 0.8929 - val_loss: 0.3121 - val_accuracy: 0.8904\n",
      "Epoch 94/100\n",
      "168/168 [==============================] - 0s 112us/step - loss: 0.2804 - accuracy: 0.8929 - val_loss: 0.3114 - val_accuracy: 0.8904\n",
      "Epoch 95/100\n",
      "168/168 [==============================] - 0s 118us/step - loss: 0.2797 - accuracy: 0.8929 - val_loss: 0.3112 - val_accuracy: 0.8904\n",
      "Epoch 96/100\n",
      "168/168 [==============================] - 0s 125us/step - loss: 0.2785 - accuracy: 0.8929 - val_loss: 0.3121 - val_accuracy: 0.8904\n",
      "Epoch 97/100\n",
      "168/168 [==============================] - 0s 113us/step - loss: 0.2770 - accuracy: 0.8929 - val_loss: 0.3123 - val_accuracy: 0.8904\n",
      "Epoch 98/100\n",
      "168/168 [==============================] - 0s 107us/step - loss: 0.2760 - accuracy: 0.8929 - val_loss: 0.3124 - val_accuracy: 0.8904\n",
      "Epoch 99/100\n",
      "168/168 [==============================] - 0s 117us/step - loss: 0.2750 - accuracy: 0.8929 - val_loss: 0.3124 - val_accuracy: 0.8904\n",
      "Epoch 100/100\n",
      "168/168 [==============================] - 0s 119us/step - loss: 0.2741 - accuracy: 0.8929 - val_loss: 0.3123 - val_accuracy: 0.8904\n"
     ]
    }
   ],
   "source": [
    "model_history = clf.fit(X_train, y_train, validation_split = 0.3, batch_size = 10, nb_epoch = 100)"
   ]
  },
  {
   "cell_type": "code",
   "execution_count": 46,
   "metadata": {},
   "outputs": [],
   "source": [
    "for i in range (0, len(pred_y)):\n",
    "    if pred_y[i] >= 0.5:\n",
    "        pred_y[i] = 1\n",
    "    else:\n",
    "        pred_y[i] = 0"
   ]
  },
  {
   "cell_type": "code",
   "execution_count": 45,
   "metadata": {},
   "outputs": [],
   "source": [
    "pred_y = clf.predict(X_test)"
   ]
  },
  {
   "cell_type": "code",
   "execution_count": 47,
   "metadata": {},
   "outputs": [
    {
     "name": "stdout",
     "output_type": "stream",
     "text": [
      "              precision    recall  f1-score   support\n",
      "\n",
      "           0       0.79      0.93      0.85        28\n",
      "           1       0.93      0.79      0.85        33\n",
      "\n",
      "    accuracy                           0.85        61\n",
      "   macro avg       0.86      0.86      0.85        61\n",
      "weighted avg       0.86      0.85      0.85        61\n",
      "\n"
     ]
    }
   ],
   "source": [
    "print(classification_report(y_test, pred_y))"
   ]
  },
  {
   "cell_type": "code",
   "execution_count": 48,
   "metadata": {},
   "outputs": [
    {
     "data": {
      "text/plain": [
       "array([[26,  2],\n",
       "       [ 7, 26]], dtype=int64)"
      ]
     },
     "execution_count": 48,
     "metadata": {},
     "output_type": "execute_result"
    }
   ],
   "source": [
    "cm_ann = confusion_matrix(y_test, pred_y)\n",
    "cm_ann"
   ]
  },
  {
   "cell_type": "markdown",
   "metadata": {},
   "source": [
    "# Model Evaluation"
   ]
  },
  {
   "cell_type": "code",
   "execution_count": 50,
   "metadata": {},
   "outputs": [
    {
     "data": {
      "text/plain": [
       "array([[25,  3],\n",
       "       [ 5, 28]], dtype=int64)"
      ]
     },
     "execution_count": 50,
     "metadata": {},
     "output_type": "execute_result"
    }
   ],
   "source": [
    "# Creating a confusion matrix\n",
    "from sklearn.metrics import confusion_matrix, classification_report, accuracy_score\n",
    "y_pred = classifier.predict(X_test)\n",
    "cm = confusion_matrix(y_test, y_pred)\n",
    "cm"
   ]
  },
  {
   "cell_type": "code",
   "execution_count": 51,
   "metadata": {},
   "outputs": [
    {
     "data": {
      "image/png": "[encoded data removed]",
      "text/plain": [
       "<Figure size 720x504 with 2 Axes>"
      ]
     },
     "metadata": {},
     "output_type": "display_data"
    }
   ],
   "source": [
    "# Plotting the confusion matrix\n",
    "plt.figure(figsize=(10,7))\n",
    "p = sns.heatmap(cm, annot=True, cmap=\"Blues\", fmt='g')\n",
    "plt.title('Confusion matrix for Classifier Model - Test Set')\n",
    "plt.xlabel('Predicted Values')\n",
    "plt.ylabel('Actual Values')\n",
    "plt.show()"
   ]
  },
  {
   "cell_type": "code",
   "execution_count": 52,
   "metadata": {},
   "outputs": [
    {
     "name": "stdout",
     "output_type": "stream",
     "text": [
      "Accuracy on test set: 86.89%\n"
     ]
    }
   ],
   "source": [
    "# Accuracy Score\n",
    "score = round(accuracy_score(y_test, y_pred),4)*100\n",
    "print(\"Accuracy on test set: {}%\".format(score))"
   ]
  },
  {
   "cell_type": "code",
   "execution_count": 53,
   "metadata": {},
   "outputs": [
    {
     "name": "stdout",
     "output_type": "stream",
     "text": [
      "              precision    recall  f1-score   support\n",
      "\n",
      "           0       0.83      0.89      0.86        28\n",
      "           1       0.90      0.85      0.88        33\n",
      "\n",
      "    accuracy                           0.87        61\n",
      "   macro avg       0.87      0.87      0.87        61\n",
      "weighted avg       0.87      0.87      0.87        61\n",
      "\n"
     ]
    }
   ],
   "source": [
    "# Classification Report\n",
    "print(classification_report(y_test, y_pred))"
   ]
  },
  {
   "cell_type": "code",
   "execution_count": null,
   "metadata": {},
   "outputs": [],
   "source": []
  }
 ],
 "metadata": {
  "kernelspec": {
   "display_name": "Python 3",
   "language": "python",
   "name": "python3"
  },
  "language_info": {
   "codemirror_mode": {
    "name": "ipython",
    "version": 3
   },
   "file_extension": ".py",
   "mimetype": "text/x-python",
   "name": "python",
   "nbconvert_exporter": "python",
   "pygments_lexer": "ipython3",
   "version": "3.7.3"
  }
 },
 "nbformat": 4,
 "nbformat_minor": 2
}
